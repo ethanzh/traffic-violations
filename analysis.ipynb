{
 "cells": [
  {
   "cell_type": "code",
   "execution_count": 64,
   "metadata": {},
   "outputs": [],
   "source": [
    "import pandas as pd"
   ]
  },
  {
   "cell_type": "code",
   "execution_count": 65,
   "metadata": {},
   "outputs": [],
   "source": [
    "df = pd.read_csv(\"data.csv\")"
   ]
  },
  {
   "cell_type": "code",
   "execution_count": 66,
   "metadata": {},
   "outputs": [],
   "source": [
    "# List of all 50 state codes. If an entry doesn't have one of these values in Driver State or\n",
    "# DL State, remove it\n",
    "states = [\"AL\", \"AK\", \"AZ\", \"AR\", \"CA\", \"CO\", \"CT\", \"DC\", \"DE\", \"FL\", \"GA\", \n",
    "          \"HI\", \"ID\", \"IL\", \"IN\", \"IA\", \"KS\", \"KY\", \"LA\", \"ME\", \"MD\", \n",
    "          \"MA\", \"MI\", \"MN\", \"MS\", \"MO\", \"MT\", \"NE\", \"NV\", \"NH\", \"NJ\", \n",
    "          \"NM\", \"NY\", \"NC\", \"ND\", \"OH\", \"OK\", \"OR\", \"PA\", \"RI\", \"SC\", \n",
    "          \"SD\", \"TN\", \"TX\", \"UT\", \"VT\", \"VA\", \"WA\", \"WV\", \"WI\", \"WY\"]"
   ]
  },
  {
   "cell_type": "code",
   "execution_count": 67,
   "metadata": {},
   "outputs": [],
   "source": [
    "df = df[df[\"Driver State\"].isin(states)]\n",
    "df = df[df[\"DL State\"].isin(states)]"
   ]
  },
  {
   "cell_type": "code",
   "execution_count": 68,
   "metadata": {},
   "outputs": [],
   "source": [
    "# For some reason it appears that all Latitude and Longitude and Geolocation values are \n",
    "# in the DC/Maryland area, which is weird considering that there are Driver State, Cities, etc that are all over the US\n",
    "# Therefore I'll remove all lat/lon/geo data. I'll keep \"Location\" but that will require some smart parsing\n",
    "df = df.drop(columns=[\"Latitude\", \"Longitude\", \"Geolocation\", \"Agency\", \"Article\", \"HAZMAT\"])"
   ]
  },
  {
   "cell_type": "code",
   "execution_count": 69,
   "metadata": {},
   "outputs": [],
   "source": [
    "# Rename \"Belts\" to \"Belt Violation\" for clarity\n",
    "df = df.rename(columns={\"Belts\": \"Belt Violation\"})"
   ]
  },
  {
   "cell_type": "code",
   "execution_count": 70,
   "metadata": {},
   "outputs": [],
   "source": [
    "# For ease-of-use later, convert all 'Yes' and 'No's to True and False\n",
    "cols_to_bool_convert = [\"Accident\", \"Belt Violation\", \"Personal Injury\", \"Property Damage\", \"Fatal\", \"Alcohol\", \n",
    "                        \"Work Zone\", \"Contributed To Accident\"]\n",
    "\n",
    "for col in cols_to_bool_convert:\n",
    "    df[col] = df[col].str.lower().replace({'yes': True, 'no': False})"
   ]
  }
 ],
 "metadata": {
  "kernelspec": {
   "display_name": "Python 3",
   "language": "python",
   "name": "python3"
  },
  "language_info": {
   "codemirror_mode": {
    "name": "ipython",
    "version": 3
   },
   "file_extension": ".py",
   "mimetype": "text/x-python",
   "name": "python",
   "nbconvert_exporter": "python",
   "pygments_lexer": "ipython3",
   "version": "3.6.5"
  }
 },
 "nbformat": 4,
 "nbformat_minor": 2
}
